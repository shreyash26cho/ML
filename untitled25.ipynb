{
  "nbformat": 4,
  "nbformat_minor": 0,
  "metadata": {
    "colab": {
      "provenance": [],
      "authorship_tag": "ABX9TyN7pllG5op++0OdEeGB7Wok",
      "include_colab_link": true
    },
    "kernelspec": {
      "name": "python3",
      "display_name": "Python 3"
    },
    "language_info": {
      "name": "python"
    }
  },
  "cells": [
    {
      "cell_type": "markdown",
      "metadata": {
        "id": "view-in-github",
        "colab_type": "text"
      },
      "source": [
        "<a href=\"https://colab.research.google.com/github/shreyash26cho/ML/blob/main/untitled25.ipynb\" target=\"_parent\"><img src=\"https://colab.research.google.com/assets/colab-badge.svg\" alt=\"Open In Colab\"/></a>"
      ]
    },
    {
      "cell_type": "code",
      "execution_count": null,
      "metadata": {
        "colab": {
          "base_uri": "https://localhost:8080/"
        },
        "id": "T2kM_XD5BHMI",
        "outputId": "61e50fb4-85f3-467f-e30c-698f6411b9d9"
      },
      "outputs": [
        {
          "output_type": "stream",
          "name": "stdout",
          "text": [
            "<class 'pandas.core.frame.DataFrame'>\n",
            "RangeIndex: 889 entries, 0 to 888\n",
            "Data columns (total 15 columns):\n",
            " #   Column       Non-Null Count  Dtype  \n",
            "---  ------       --------------  -----  \n",
            " 0   survived     889 non-null    int64  \n",
            " 1   pclass       889 non-null    int64  \n",
            " 2   sex          889 non-null    object \n",
            " 3   age          713 non-null    float64\n",
            " 4   sibsp        889 non-null    int64  \n",
            " 5   parch        889 non-null    int64  \n",
            " 6   fare         889 non-null    float64\n",
            " 7   embarked     887 non-null    object \n",
            " 8   class        889 non-null    object \n",
            " 9   who          889 non-null    object \n",
            " 10  adult_male   889 non-null    bool   \n",
            " 11  deck         203 non-null    object \n",
            " 12  embark_town  887 non-null    object \n",
            " 13  alive        889 non-null    object \n",
            " 14  alone        889 non-null    bool   \n",
            "dtypes: bool(2), float64(2), int64(4), object(7)\n",
            "memory usage: 92.2+ KB\n"
          ]
        }
      ],
      "source": [
        "import pandas as pd\n",
        "import numpy as np\n",
        "import matplotlib.pyplot as plt\n",
        "import seaborn as sns\n",
        "from sklearn.compose import ColumnTransformer\n",
        "from sklearn.pipeline import Pipeline\n",
        "\n",
        "df = pd.read_csv('/content/titanic_data.csv')\n",
        "df.describe()\n",
        "df.info()\n",
        "\n",
        "X = data.drop('survived', axis=1)\n",
        "y = data['survived']"
      ]
    },
    {
      "cell_type": "code",
      "source": [
        "num_features = X.select_dtypes(include=['int64', 'float64']).columns\n",
        "cat_features = X.select_dtypes(include=['object']).columns\n",
        "print(\"identify the data \")"
      ],
      "metadata": {
        "colab": {
          "base_uri": "https://localhost:8080/"
        },
        "id": "WgVuldVuDolg",
        "outputId": "885f6017-c998-4ca8-9860-62c5b6f0790c"
      },
      "execution_count": null,
      "outputs": [
        {
          "output_type": "stream",
          "name": "stdout",
          "text": [
            "identify the coumn \n"
          ]
        }
      ]
    },
    {
      "cell_type": "code",
      "source": [
        "scaler = StandardScaler()\n",
        "X[num_features] = scaler.fit_transform(X[num_features])\n",
        "encoder = OneHotEncoder(handle_unknown='ignore', sparse_output=False)\n",
        "X_cat_encoded = encoder.fit_transform(X[cat_features])"
      ],
      "metadata": {
        "id": "9ytVkEkIIN8_"
      },
      "execution_count": null,
      "outputs": []
    },
    {
      "cell_type": "code",
      "source": [
        "X_cat_encoded_df = pd.DataFrame(X_cat_encoded, columns=encoder.get_feature_names_out(cat_features), index=X.index)\n",
        "X = X.drop(cat_features, axis=1)\n",
        "X_processed = pd.concat([X, X_cat_encoded_df], axis=1)"
      ],
      "metadata": {
        "id": "dwIXxZReIkSv"
      },
      "execution_count": null,
      "outputs": []
    },
    {
      "cell_type": "code",
      "source": [
        "X_train, X_test, y_train, y_test = train_test_split(X_processed, y, test_size=0.2, random_state=42)\n",
        "print(\"Preprocessing complete. Training data shape:\", X_train.shape)"
      ],
      "metadata": {
        "colab": {
          "base_uri": "https://localhost:8080/"
        },
        "id": "14HkZZFXIpz_",
        "outputId": "5abd147b-42a0-442d-9046-97773cd67570"
      },
      "execution_count": null,
      "outputs": [
        {
          "output_type": "stream",
          "name": "stdout",
          "text": [
            "Preprocessing complete. Training data shape: (711, 33)\n"
          ]
        }
      ]
    },
    {
      "cell_type": "code",
      "source": [],
      "metadata": {
        "id": "eLMMXdQVLo2v"
      },
      "execution_count": null,
      "outputs": []
    }
  ]
}